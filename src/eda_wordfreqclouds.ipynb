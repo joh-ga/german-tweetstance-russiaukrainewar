{
 "cells": [
  {
   "attachments": {},
   "cell_type": "markdown",
   "metadata": {},
   "source": [
    "# Exploratory Data Analysis: Word Frequency & Word Clouds\n",
    "Author: Johanna Garthe"
   ]
  },
  {
   "cell_type": "code",
   "execution_count": 1,
   "metadata": {},
   "outputs": [],
   "source": [
    "import pandas as pd\n",
    "import matplotlib.pyplot as plt\n",
    "from wordcloud import WordCloud\n",
    "import itertools\n",
    "import collections\n",
    "import spacy\n",
    "import re\n",
    "import warnings\n",
    "warnings.filterwarnings(\"ignore\")\n",
    "en = spacy.load('en_core_web_sm')\n",
    "stopwords_en = en.Defaults.stop_words\n",
    "de = spacy.load(\"de_core_news_sm\")\n",
    "stopwords_de = de.Defaults.stop_words"
   ]
  },
  {
   "cell_type": "code",
   "execution_count": 2,
   "metadata": {},
   "outputs": [],
   "source": [
    "f_name = \" \"\n",
    "df = pd.read_csv(f_name)\n",
    "target_class = df[(df['predicted_label']=='against')]\n",
    "tweets = target_class['text_cleaned']"
   ]
  },
  {
   "attachments": {},
   "cell_type": "markdown",
   "metadata": {},
   "source": [
    "##### Lemmatization & Stop Word Removal"
   ]
  },
  {
   "cell_type": "code",
   "execution_count": 4,
   "metadata": {},
   "outputs": [],
   "source": [
    "def lemmatize(tweet):\n",
    "    \"\"\" Takes a string and lemmatize it \"\"\"\n",
    "    tweet_lemma = []\n",
    "    text = de(tweet)\n",
    "    lemmatas = ' '.join([x.lemma_ for x in text]) \n",
    "    tweet_lemma.append(lemmatas)\n",
    "    tweet = ' '.join(tweet_lemma)\n",
    "    tweet = re.sub('--', '', tweet) # Remove lemma punctuation symbol\n",
    "    tweet = tweet.lower()\n",
    "    tweet = tweet.rstrip()\n",
    "    return tweet\n",
    "\n",
    "words_in_tweet = [lemmatize(tweet).split() for tweet in tweets]\n",
    "# Stop word removal\n",
    "tweets_nsw = [[word for word in tweet_words if not word in stopwords_de and not word in stopwords_en]\n",
    "              for tweet_words in words_in_tweet]\n",
    "# Optional: Removal of query or keywords, e.g. Ukraine/Russia, from the list\n",
    "#keywords = [\"russisch\", \"ukrainisch\"]\n",
    "#tweets_nsw = [[w for w in word if not w in keywords] for word in tweets_nsw]"
   ]
  },
  {
   "attachments": {},
   "cell_type": "markdown",
   "metadata": {
    "notebookRunGroups": {
     "groupValue": "2"
    }
   },
   "source": [
    "##### Calculation of Word Frequency"
   ]
  },
  {
   "cell_type": "code",
   "execution_count": 6,
   "metadata": {},
   "outputs": [],
   "source": [
    "all_words_nsw = list(itertools.chain(*tweets_nsw))\n",
    "counts_nsw = collections.Counter(all_words_nsw)\n",
    "\n",
    "# Optional: Save word counts result\n",
    "#savefile = \" \"\n",
    "#df_counts = pd.DataFrame(counts_nsw.most_common(),columns=['words', 'count'])\n",
    "#df_counts.to_csv(savefile, index=False, header=True)"
   ]
  },
  {
   "attachments": {},
   "cell_type": "markdown",
   "metadata": {},
   "source": [
    "##### Plot of Word Frequency"
   ]
  },
  {
   "cell_type": "code",
   "execution_count": null,
   "metadata": {},
   "outputs": [],
   "source": [
    "print('Number of unique words:', len(counts_nsw))\n",
    "clean_tweets = pd.DataFrame(counts_nsw.most_common(30),\n",
    "                             columns=['words', 'count'])\n",
    "\n",
    "tlt_name = \"Common Words in Dataset\"\n",
    "plt.rcParams['font.family'] = 'sans-serif'\n",
    "plt.rcParams['font.sans-serif'] = 'Helvetica'\n",
    "plt.rcParams['axes.edgecolor']='#333F4B'\n",
    "plt.rcParams['axes.linewidth']=0.8\n",
    "plt.rcParams['xtick.color']='#333F4B'\n",
    "plt.rcParams['ytick.color']='#333F4B'\n",
    "plt.rcParams['text.color']='#333F4B'\n",
    "\n",
    "df = clean_tweets.sort_values(by='count')\n",
    "my_range=list(range(1,len(df['words'])+1))\n",
    "fig, ax = plt.subplots(figsize=(15,10))\n",
    "\n",
    "plt.style.use('fivethirtyeight')\n",
    "plt.hlines(y=my_range, xmin=0, xmax=df['count'], color='#007ACC', alpha=0.2, linewidth=5)\n",
    "plt.plot(df['count'], my_range, \"o\", markersize=5, color='#007ACC', alpha=0.6)\n",
    "ax.set_xlabel('\\nCount', fontsize=16, fontweight='bold', color = '#333F4B')\n",
    "ax.set_ylabel('Word', fontsize=16, fontweight='bold', color = '#333F4B')\n",
    "ax.tick_params(axis='both', which='major', labelsize=14)\n",
    "plt.yticks(my_range, df['words'])\n",
    "fig.text(0, 0.92, tlt_name, fontsize=20, fontweight='bold', color = '#333F4B')\n",
    "ax.spines['top'].set_visible(False)\n",
    "ax.spines['right'].set_visible(False)\n",
    "ax.spines['left'].set_bounds((1, len(my_range)))\n",
    "ax.set_xlim(0,66000)\n",
    "ax.spines['left'].set_position(('outward', 8))\n",
    "ax.spines['bottom'].set_position(('outward', 5))\n",
    "plt.savefig(' ', dpi=300, bbox_inches='tight')"
   ]
  },
  {
   "attachments": {},
   "cell_type": "markdown",
   "metadata": {},
   "source": [
    "##### Visualization as a Word Cloud"
   ]
  },
  {
   "cell_type": "code",
   "execution_count": null,
   "metadata": {},
   "outputs": [],
   "source": [
    "# Optional: Use word count file\n",
    "#f_name = \"../data/data_unlabeled/all_24feb31dec/3_predictions/SLI-favor_wordcounts250.csv\"\n",
    "#counter_df =  pd.read_csv(f_name)\n",
    "#counter_dict = counter_df.set_index('words')['count'].to_dict()\n",
    "\n",
    "# Creation of the WordCloud object\n",
    "wordcloud = WordCloud(min_word_length =3,\n",
    "                    background_color='black', #'whitesmoke'\n",
    "                    #colormap=\"ocean\",\n",
    "                    max_words=250,\n",
    "                    width=1600, height=800,\n",
    "                    )\n",
    "# Generation of word cloud\n",
    "wordcloud.generate_from_frequencies(counts_nsw)\n",
    "# Plot\n",
    "#plt.style.use('fivethirtyeight')\n",
    "plt.figure(figsize=(20,10),facecolor='k')\n",
    "plt.imshow(wordcloud, interpolation='bilinear')\n",
    "plt.axis('off')\n",
    "plt.tight_layout(pad=0)\n",
    "plt.show()"
   ]
  }
 ],
 "metadata": {
  "kernelspec": {
   "display_name": "Python 3.9.9 ('thesis')",
   "language": "python",
   "name": "python3"
  },
  "language_info": {
   "codemirror_mode": {
    "name": "ipython",
    "version": 3
   },
   "file_extension": ".py",
   "mimetype": "text/x-python",
   "name": "python",
   "nbconvert_exporter": "python",
   "pygments_lexer": "ipython3",
   "version": "3.9.9"
  },
  "orig_nbformat": 4,
  "vscode": {
   "interpreter": {
    "hash": "4722381e282829dc2e0270ece5777a795c43f571bc85da8c920bed3e1f241ef2"
   }
  }
 },
 "nbformat": 4,
 "nbformat_minor": 2
}

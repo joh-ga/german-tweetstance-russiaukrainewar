{
 "cells": [
  {
   "attachments": {},
   "cell_type": "markdown",
   "metadata": {},
   "source": [
    "# Twitter API v2: Finding Trending Hashtags\n",
    "Author: Johanna Garthe <br>\n",
    "Discover hashtags used by Twitter users and their volume on a desired date."
   ]
  },
  {
   "cell_type": "code",
   "execution_count": 1,
   "metadata": {},
   "outputs": [],
   "source": [
    "import tweepy\n",
    "import config_twitter\n",
    "import time\n",
    "import pandas as pd\n",
    "import re\n",
    "\n",
    "client = tweepy.Client(bearer_token=config_twitter.BEARER_TOKEN, wait_on_rate_limit=True)"
   ]
  },
  {
   "cell_type": "code",
   "execution_count": 8,
   "metadata": {},
   "outputs": [],
   "source": [
    "query = \" \"\n",
    "starttime = '2022-03-01T00:00:00Z'\n",
    "endtime = '2022-05-31T00:00:00Z'"
   ]
  },
  {
   "cell_type": "code",
   "execution_count": 9,
   "metadata": {},
   "outputs": [],
   "source": [
    "tweets = []\n",
    "for response in tweepy.Paginator(\n",
    "   \n",
    "   client.search_all_tweets,\n",
    "   query = query + ' -is:retweet -is:reply lang:de',\n",
    "   tweet_fields = ['created_at', 'public_metrics', 'text', 'id', 'entities'],\n",
    "   start_time = starttime,\n",
    "   end_time = endtime,\n",
    "   max_results=500,     # Max number per page with system limit of 500\n",
    "   limit=20):           # Request page account limit 300 requests per 15 minutes\n",
    "   \n",
    "   time.sleep(1)        # Full-archive 1 request / 1 second limit\n",
    "   tweets.append(response)\n",
    "\n",
    "result = []\n",
    "user_dict = {}\n",
    "\n",
    "for response in tweets:\n",
    "    for tweet in response.data:\n",
    "        tags = []\n",
    "        try:\n",
    "            [tags.append(', '.join([\"#\"+str(h['tag']) for h in tweet.entities['hashtags']]))]\n",
    "        except:\n",
    "            pass\n",
    "        result.append({'text_id': tweet.id,\n",
    "                    'text': tweet.text.replace('\\n', ' ').replace('\\r', ' '),\n",
    "                    'text_hashtags': [tags if tags else None],\n",
    "                    'created_at': tweet.created_at,\n",
    "                    'retweets': tweet.public_metrics['retweet_count'],\n",
    "                    'replies': tweet.public_metrics['reply_count'],\n",
    "                    'likes': tweet.public_metrics['like_count'],\n",
    "                    'quote_count': tweet.public_metrics['quote_count'],\n",
    "                    })\n",
    "df = pd.DataFrame(result)\n",
    "print('Number of matching results:', len(df))\n",
    "#df.to_csv('{}_{}.csv'.format(query, starttime, endtime, index=False, header=True))"
   ]
  },
  {
   "cell_type": "markdown",
   "metadata": {},
   "source": [
    "#### Shows 25 most popular hashtags found in the text and their frequenceny"
   ]
  },
  {
   "cell_type": "code",
   "execution_count": 5,
   "metadata": {},
   "outputs": [],
   "source": [
    "hashtags = df['text_hashtags']\n",
    "tagslists = []\n",
    "tagslist = []\n",
    "\n",
    "for tags in hashtags:\n",
    "    try:\n",
    "        if tags is not None:\n",
    "            for tag in tags:\n",
    "                for t in tag:\n",
    "                    tagslists.append(t.lower().split(','))\n",
    "    except:\n",
    "        pass\n",
    "\n",
    "for list in tagslists:\n",
    "    tagslist += list\n",
    "df_hashtags = pd.DataFrame (tagslist, columns = ['Hashtags found in text'])\n",
    "count = df_hashtags.pivot_table(columns=['Hashtags found in text'], aggfunc='size')"
   ]
  },
  {
   "cell_type": "code",
   "execution_count": null,
   "metadata": {},
   "outputs": [],
   "source": [
    "count.sort_values(ascending=False).head(25)"
   ]
  },
  {
   "attachments": {},
   "cell_type": "markdown",
   "metadata": {},
   "source": [
    "# Twitter API v2: Full-Archive Tweet Counts\n",
    "Check tweet volume using respective hashtag"
   ]
  },
  {
   "cell_type": "code",
   "execution_count": null,
   "metadata": {},
   "outputs": [],
   "source": [
    "import tweepy\n",
    "import config_twitter\n",
    "\n",
    "def getClient():\n",
    "    client = tweepy.Client(bearer_token=config_twitter.BEARER_TOKEN,\n",
    "                           consumer_key=config_twitter.API_KEY,\n",
    "                           consumer_secret=config_twitter.API_KEY_SECRET,\n",
    "                           access_token=config_twitter.ACCESS_TOKEN,\n",
    "                           access_token_secret=config_twitter.ACCESS_TOKEN_SECRET)\n",
    "    return client\n",
    "\n",
    "def countTweets(query,starttime,endtime):\n",
    "    client = getClient()\n",
    "    counts = client.get_all_tweets_count(\n",
    "        query=query,\n",
    "        start_time = starttime,\n",
    "        end_time = endtime,\n",
    "        granularity='day',\n",
    "        #next_token=nexttoken\n",
    "        )\n",
    "    for count in counts:\n",
    "        print(count)"
   ]
  },
  {
   "cell_type": "code",
   "execution_count": null,
   "metadata": {},
   "outputs": [],
   "source": [
    "# Define query\n",
    "searchterms = \" \"\n",
    "query = searchterms+' -is:retweet -is:reply lang:de'\n",
    "#nexttoken = \" \"\n",
    "countTweets(query, starttime='2022-02-24T00:00:00Z', endtime='2022-08-31T00:00:00Z ')"
   ]
  }
 ],
 "metadata": {
  "kernelspec": {
   "display_name": "Python 3.9.9 ('thesis')",
   "language": "python",
   "name": "python3"
  },
  "language_info": {
   "codemirror_mode": {
    "name": "ipython",
    "version": 3
   },
   "file_extension": ".py",
   "mimetype": "text/x-python",
   "name": "python",
   "nbconvert_exporter": "python",
   "pygments_lexer": "ipython3",
   "version": "3.9.9 (main, Nov 21 2021, 03:23:42) \n[Clang 13.0.0 (clang-1300.0.29.3)]"
  },
  "orig_nbformat": 4,
  "vscode": {
   "interpreter": {
    "hash": "4722381e282829dc2e0270ece5777a795c43f571bc85da8c920bed3e1f241ef2"
   }
  }
 },
 "nbformat": 4,
 "nbformat_minor": 2
}

{
 "cells": [
  {
   "attachments": {},
   "cell_type": "markdown",
   "metadata": {},
   "source": [
    "# Customized Wordninja Model\n",
    "Credit: https://github.com/keredson/wordninja <br>\n",
    "Credit: https://www.ids-mannheim.de/digspra/kl/projekte/methoden/derewo#c9385<br><br>\n",
    "Hashtags are often formed by concatenating several individual words. The Python package Wordninja splits such combined texts into the most probable constituent word sequences. For example, ‘#stopputin’ may be splitted as ‘stop put in’ or ‘stop putin’.\n",
    "<br>\n",
    "A customized model has been used in the data preprocessing step. It is based on the file customized.txt.gz, which consists of the text data from Wordninja, a German language word frequency list from the Leibniz Institute for the German Language (IDS), and corpus-specific words."
   ]
  },
  {
   "cell_type": "code",
   "execution_count": 1,
   "metadata": {},
   "outputs": [],
   "source": [
    "import wordninja\n",
    "import re\n",
    "\n",
    "lm = wordninja.LanguageModel('./customized.txt.gz')"
   ]
  },
  {
   "cell_type": "code",
   "execution_count": 11,
   "metadata": {},
   "outputs": [
    {
     "name": "stdout",
     "output_type": "stream",
     "text": [
      "Hashtag:           #putinateabag\n",
      "Default model:     ['put', 'in', 'a', 'teabag']\n",
      "Customized model:  ['putin', 'a', 'teabag']\n",
      "Hashtag:           #putinatwar\n",
      "Default model:     ['put', 'in', 'at', 'war']\n",
      "Customized model:  ['putin', 'at', 'war']\n",
      "Hashtag:           #westandwithukraine\n",
      "Default model:     ['west', 'and', 'with', 'ukraine']\n",
      "Customized model:  ['we', 'stand', 'with', 'ukraine']\n",
      "Hashtag:           #erneuerbareenergien\n",
      "Default model:     ['er', 'neuer', 'bare', 'energie', 'n']\n",
      "Customized model:  ['erneuerbare', 'energien']\n",
      "Hashtag:           #putinisawarcriminal\n",
      "Default model:     ['put', 'in', 'is', 'a', 'war', 'criminal']\n",
      "Customized model:  ['putin', 'is', 'a', 'war', 'criminal']\n",
      "Hashtag:           #schicktsoldatenandiefront\n",
      "Default model:     ['s', 'chick', 't', 'sold', 'aten', 'andie', 'front']\n",
      "Customized model:  ['schickt', 'soldaten', 'an', 'die', 'front']\n",
      "Hashtag:           #diplomatiestattwaffen\n",
      "Default model:     ['diplomat', 'ie', 'statt', 'waffen']\n",
      "Customized model:  ['diplomatie', 'statt', 'waffen']\n",
      "Hashtag:           fuckatomausstieg\n",
      "Default model:     ['fuck', 'atoma', 'uss', 'tie', 'g']\n",
      "Customized model:  ['fuck', 'atomausstieg']\n"
     ]
    }
   ],
   "source": [
    "# Comparison between default and customized model\n",
    "test = ['#putinateabag','#putinatwar','#westandwithukraine','#erneuerbareenergien','#putinisawarcriminal','#schicktsoldatenandiefront','#diplomatiestattwaffen','fuckatomausstieg']\n",
    "\n",
    "for ht in test:\n",
    "    print('Hashtag:          ',ht)\n",
    "    print('Default model:    ',wordninja.split(ht))\n",
    "    print('Customized model: ',lm.split(ht))"
   ]
  }
 ],
 "metadata": {
  "kernelspec": {
   "display_name": "Python 3.9.9 ('thesis')",
   "language": "python",
   "name": "python3"
  },
  "language_info": {
   "codemirror_mode": {
    "name": "ipython",
    "version": 3
   },
   "file_extension": ".py",
   "mimetype": "text/x-python",
   "name": "python",
   "nbconvert_exporter": "python",
   "pygments_lexer": "ipython3",
   "version": "3.9.9"
  },
  "orig_nbformat": 4,
  "vscode": {
   "interpreter": {
    "hash": "4722381e282829dc2e0270ece5777a795c43f571bc85da8c920bed3e1f241ef2"
   }
  }
 },
 "nbformat": 4,
 "nbformat_minor": 2
}
